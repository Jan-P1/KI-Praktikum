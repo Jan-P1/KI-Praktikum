{
 "cells": [
  {
   "cell_type": "markdown",
   "source": [
    "Optuna example that optimizes a neural network classifier configuration for the digit dataset using Keras."
   ],
   "metadata": {
    "collapsed": false
   }
  },
  {
   "cell_type": "code",
   "execution_count": 248,
   "outputs": [],
   "source": [
    "import optuna"
   ],
   "metadata": {
    "collapsed": false
   }
  },
  {
   "cell_type": "markdown",
   "source": [
    "Import more useful libraries"
   ],
   "metadata": {
    "collapsed": false
   }
  },
  {
   "cell_type": "code",
   "execution_count": 249,
   "outputs": [],
   "source": [
    "import pickle\n",
    "import numpy as np\n",
    "import pandas as pd\n",
    "\n",
    "# for visualization\n",
    "import matplotlib.pyplot as plt\n",
    "import seaborn as sns\n",
    "\n",
    "# for neural networks\n",
    "import tensorflow as tf\n",
    "from tensorflow import keras\n",
    "from tensorflow.keras.backend import clear_session\n",
    "from tensorflow.keras.layers import Dense, Input\n",
    "from tensorflow.keras.layers import Dropout\n",
    "from tensorflow.keras.models import Sequential\n",
    "from tensorflow.keras.optimizers import Adam\n",
    "\n",
    "# machine learning basics\n",
    "# train_test_split was moved from cross_validation to model_selection in 0.18\n",
    "from sklearn.model_selection import train_test_split\n",
    "from sklearn.preprocessing import StandardScaler\n",
    "from sklearn.metrics import confusion_matrix, classification_report"
   ],
   "metadata": {
    "collapsed": false
   }
  },
  {
   "cell_type": "code",
   "execution_count": 250,
   "outputs": [],
   "source": [
    "BATCHSIZE = 500\n",
    "# number of epochs\n",
    "EPOCHS = 20\n",
    "\n",
    "# needed to save best model so far\n",
    "global best_accuracy_so_far"
   ],
   "metadata": {
    "collapsed": false
   }
  },
  {
   "cell_type": "markdown",
   "source": [
    "## The objective function for optuna to optimize the hyperparameters"
   ],
   "metadata": {
    "collapsed": false
   }
  },
  {
   "cell_type": "code",
   "execution_count": 251,
   "outputs": [],
   "source": [
    "def objective(trial):\n",
    "    global best_accuracy_so_far\n",
    "\n",
    "    # Clear clutter from previous Keras session graphs.\n",
    "    clear_session()\n",
    "\n",
    "    trees = pd.read_csv('../train.csv', header=0, index_col=\"Id\")\n",
    "\n",
    "    # get features X and labels y\n",
    "    X = trees.values[:,:-1]\n",
    "    y = trees[\"Cover_Type\"]\n",
    "    # split dataset into training and validation datasets\n",
    "    X_train, X_val, y_train, y_val = train_test_split(X, y)\n",
    "\n",
    "    scaler = StandardScaler()\n",
    "    # Fit only to the training data\n",
    "    scaler.fit(X_train)\n",
    "    # save fitted scaler, because you need it later for the test dataset\n",
    "    pickle.dump(scaler, open(\"scaler.p\", \"wb\"))\n",
    "\n",
    "    # Now apply the transformations to the data:\n",
    "    X_train = scaler.transform(X_train)\n",
    "    X_val = scaler.transform(X_val)\n",
    "\n",
    "    # create neural network\n",
    "    model = Sequential()\n",
    "\n",
    "    model.add(Input(shape=54))\n",
    "    model.add(Dense(32, kernel_initializer='uniform', activation='relu'))\n",
    "    model.add(Dropout(0.1))\n",
    "    model.add(Dense(units=trial.suggest_int(\"units\", 12, 36, step=4), kernel_initializer='uniform',\n",
    "                    activation=trial.suggest_categorical(\"activation\", [\"relu\", \"linear\"])))\n",
    "    # Adding dropout to prevent overfitting\n",
    "    model.add(Dropout(rate=trial.suggest_float(\"rate\", 0.0, 0.1, step=0.1)))\n",
    "    model.add(Dense(14, kernel_initializer='uniform', activation='sigmoid'))\n",
    "\n",
    "    # We compile our model with a sampled learning rate.\n",
    "    learning_rate = trial.suggest_float(\"learning_rate\", 1e-5, 1e-1, log=True)\n",
    "    model.compile(\n",
    "        loss=\"sparse_categorical_crossentropy\",\n",
    "        optimizer=Adam(learning_rate=learning_rate),\n",
    "        metrics=[\"accuracy\"],\n",
    "    )\n",
    "\n",
    "    # train neural network\n",
    "    model.fit(\n",
    "        X_train,\n",
    "        y_train,\n",
    "        validation_data=(X_val, y_val),\n",
    "        shuffle=True,\n",
    "        batch_size=BATCHSIZE,\n",
    "        epochs=EPOCHS,\n",
    "        verbose=False,\n",
    "    )\n",
    "\n",
    "    # Evaluate the model accuracy on the validation set.\n",
    "    score = model.evaluate(X_val, y_val, verbose=0)\n",
    "\n",
    "    # save best model so far to be able to use the best model later to predict with test data\n",
    "    if score[1] >= best_accuracy_so_far:\n",
    "        tf.keras.models.save_model(model, '{0}.mdl'.format(trial.number))\n",
    "        best_accuracy_so_far = score[1]\n",
    "\n",
    "    # return accuracy\n",
    "    return score[1]"
   ],
   "metadata": {
    "collapsed": false
   }
  },
  {
   "cell_type": "markdown",
   "source": [
    "# Main Function"
   ],
   "metadata": {
    "collapsed": false
   }
  },
  {
   "cell_type": "markdown",
   "source": [
    "Use optuna to do hyperparameter optimization to find optimal neural network architecture"
   ],
   "metadata": {
    "collapsed": false
   }
  },
  {
   "cell_type": "code",
   "execution_count": 252,
   "outputs": [
    {
     "name": "stderr",
     "output_type": "stream",
     "text": [
      "\u001B[32m[I 2022-12-03 20:53:00,572]\u001B[0m A new study created in memory with name: no-name-eb2dbc25-8ea9-4e0b-a15f-ea6a36327b13\u001B[0m\n",
      "WARNING:absl:Found untraced functions such as _update_step_xla while saving (showing 1 of 1). These functions will not be directly callable after loading.\n"
     ]
    },
    {
     "name": "stdout",
     "output_type": "stream",
     "text": [
      "INFO:tensorflow:Assets written to: 0.mdl\\assets\n"
     ]
    },
    {
     "name": "stderr",
     "output_type": "stream",
     "text": [
      "INFO:tensorflow:Assets written to: 0.mdl\\assets\n",
      "\u001B[32m[I 2022-12-03 20:53:07,898]\u001B[0m Trial 0 finished with value: 0.3137566149234772 and parameters: {'units': 12, 'activation': 'linear', 'rate': 0.1, 'learning_rate': 0.0001335772036468108}. Best is trial 0 with value: 0.3137566149234772.\u001B[0m\n",
      "WARNING:absl:Found untraced functions such as _update_step_xla while saving (showing 1 of 1). These functions will not be directly callable after loading.\n"
     ]
    },
    {
     "name": "stdout",
     "output_type": "stream",
     "text": [
      "INFO:tensorflow:Assets written to: 1.mdl\\assets\n"
     ]
    },
    {
     "name": "stderr",
     "output_type": "stream",
     "text": [
      "INFO:tensorflow:Assets written to: 1.mdl\\assets\n",
      "\u001B[32m[I 2022-12-03 20:53:14,892]\u001B[0m Trial 1 finished with value: 0.3253968358039856 and parameters: {'units': 20, 'activation': 'relu', 'rate': 0.1, 'learning_rate': 2.1701392586104522e-05}. Best is trial 1 with value: 0.3253968358039856.\u001B[0m\n",
      "WARNING:absl:Found untraced functions such as _update_step_xla while saving (showing 1 of 1). These functions will not be directly callable after loading.\n"
     ]
    },
    {
     "name": "stdout",
     "output_type": "stream",
     "text": [
      "INFO:tensorflow:Assets written to: 2.mdl\\assets\n"
     ]
    },
    {
     "name": "stderr",
     "output_type": "stream",
     "text": [
      "INFO:tensorflow:Assets written to: 2.mdl\\assets\n",
      "\u001B[32m[I 2022-12-03 20:53:21,362]\u001B[0m Trial 2 finished with value: 0.7269841432571411 and parameters: {'units': 36, 'activation': 'relu', 'rate': 0.0, 'learning_rate': 0.08694234993720028}. Best is trial 2 with value: 0.7269841432571411.\u001B[0m\n",
      "WARNING:absl:Found untraced functions such as _update_step_xla while saving (showing 1 of 1). These functions will not be directly callable after loading.\n"
     ]
    },
    {
     "name": "stdout",
     "output_type": "stream",
     "text": [
      "INFO:tensorflow:Assets written to: 3.mdl\\assets\n"
     ]
    },
    {
     "name": "stderr",
     "output_type": "stream",
     "text": [
      "INFO:tensorflow:Assets written to: 3.mdl\\assets\n",
      "\u001B[32m[I 2022-12-03 20:53:28,165]\u001B[0m Trial 3 finished with value: 0.7563492059707642 and parameters: {'units': 12, 'activation': 'linear', 'rate': 0.1, 'learning_rate': 0.018305710402239397}. Best is trial 3 with value: 0.7563492059707642.\u001B[0m\n",
      "\u001B[32m[I 2022-12-03 20:53:33,974]\u001B[0m Trial 4 finished with value: 0.7423280477523804 and parameters: {'units': 20, 'activation': 'relu', 'rate': 0.1, 'learning_rate': 0.01435777293881825}. Best is trial 3 with value: 0.7563492059707642.\u001B[0m\n",
      "\u001B[32m[I 2022-12-03 20:53:38,411]\u001B[0m Trial 5 finished with value: 0.7362433671951294 and parameters: {'units': 24, 'activation': 'relu', 'rate': 0.1, 'learning_rate': 0.055627567623185194}. Best is trial 3 with value: 0.7563492059707642.\u001B[0m\n",
      "\u001B[32m[I 2022-12-03 20:53:42,974]\u001B[0m Trial 6 finished with value: 0.29100528359413147 and parameters: {'units': 24, 'activation': 'linear', 'rate': 0.0, 'learning_rate': 0.0001214554396590046}. Best is trial 3 with value: 0.7563492059707642.\u001B[0m\n",
      "\u001B[32m[I 2022-12-03 20:53:48,692]\u001B[0m Trial 7 finished with value: 0.6507936716079712 and parameters: {'units': 24, 'activation': 'relu', 'rate': 0.1, 'learning_rate': 0.0006721584614098595}. Best is trial 3 with value: 0.7563492059707642.\u001B[0m\n",
      "\u001B[32m[I 2022-12-03 20:53:53,662]\u001B[0m Trial 8 finished with value: 0.19232803583145142 and parameters: {'units': 20, 'activation': 'relu', 'rate': 0.0, 'learning_rate': 2.82981093660612e-05}. Best is trial 3 with value: 0.7563492059707642.\u001B[0m\n",
      "\u001B[32m[I 2022-12-03 20:53:58,386]\u001B[0m Trial 9 finished with value: 0.3558201193809509 and parameters: {'units': 12, 'activation': 'relu', 'rate': 0.0, 'learning_rate': 3.3853366499758726e-05}. Best is trial 3 with value: 0.7563492059707642.\u001B[0m\n"
     ]
    }
   ],
   "source": [
    "best_accuracy_so_far = -100\n",
    "study = optuna.create_study(direction=\"maximize\")\n",
    "# be cautious with the number of trials: Do not use a number larger than 50\n",
    "# this call starts the hyperparameter optimization process: the above define function \"objective\" is called with\n",
    "# n_trials different hyperparameter combinations\n",
    "study.optimize(objective, n_trials=10, timeout=600)"
   ],
   "metadata": {
    "collapsed": false
   }
  },
  {
   "cell_type": "markdown",
   "source": [
    "Analyse the best model and use it to predict accuracy on test data"
   ],
   "metadata": {
    "collapsed": false
   }
  },
  {
   "cell_type": "code",
   "execution_count": 253,
   "outputs": [
    {
     "name": "stdout",
     "output_type": "stream",
     "text": [
      "Best trial:\n",
      "FrozenTrial(number=3, values=[0.7563492059707642], datetime_start=datetime.datetime(2022, 12, 3, 20, 53, 21, 364680), datetime_complete=datetime.datetime(2022, 12, 3, 20, 53, 28, 165352), params={'units': 12, 'activation': 'linear', 'rate': 0.1, 'learning_rate': 0.018305710402239397}, distributions={'units': IntDistribution(high=36, log=False, low=12, step=4), 'activation': CategoricalDistribution(choices=('relu', 'linear')), 'rate': FloatDistribution(high=0.1, log=False, low=0.0, step=0.1), 'learning_rate': FloatDistribution(high=0.1, log=True, low=1e-05, step=None)}, user_attrs={}, system_attrs={}, intermediate_values={}, trial_id=3, state=TrialState.COMPLETE, value=None)\n",
      "  Value: 0.7563492059707642\n",
      "  Params: \n",
      "    units: 12\n",
      "    activation: linear\n",
      "    rate: 0.1\n",
      "    learning_rate: 0.018305710402239397\n"
     ]
    }
   ],
   "source": [
    "print(\"Best trial:\")\n",
    "trial = study.best_trial\n",
    "print(trial)\n",
    "\n",
    "print(\"  Value: {}\".format(trial.value))\n",
    "\n",
    "print(\"  Params: \")\n",
    "for key, value in trial.params.items():\n",
    "    print(\"    {}: {}\".format(key, value))"
   ],
   "metadata": {
    "collapsed": false
   }
  },
  {
   "cell_type": "markdown",
   "source": [
    "Load the best model. This model was saved in the function \"objective\"."
   ],
   "metadata": {
    "collapsed": false
   }
  },
  {
   "cell_type": "code",
   "execution_count": 254,
   "outputs": [],
   "source": [
    "best_model = tf.keras.models.load_model('{0}.mdl'.format(trial.number))"
   ],
   "metadata": {
    "collapsed": false
   }
  },
  {
   "cell_type": "markdown",
   "source": [
    "### Return performance of final model on new data (test data)\n",
    "TODO: only load test data here, that you get a few days before the deadline."
   ],
   "metadata": {
    "collapsed": false
   }
  },
  {
   "cell_type": "code",
   "execution_count": 255,
   "outputs": [],
   "source": [
    "trees = pd.read_csv('../test_file.csv', header=0, index_col=\"Id\")\n",
    "\n",
    "X_test = trees.values[:,:-1]\n",
    "y_test = trees[\"Cover_Type\"]\n",
    "\n",
    "scaler = pickle.load(open(\"scaler.p\", \"rb\"))\n",
    "# important: preprocessing of test dataset has to be the same as for the training dataset\n",
    "X_test = scaler.transform(X_test)"
   ],
   "metadata": {
    "collapsed": false
   }
  },
  {
   "cell_type": "markdown",
   "source": [
    "Predicting the Test set results"
   ],
   "metadata": {
    "collapsed": false
   }
  },
  {
   "cell_type": "code",
   "execution_count": 256,
   "outputs": [
    {
     "name": "stdout",
     "output_type": "stream",
     "text": [
      "17685/17685 [==============================] - 33s 2ms/step\n",
      "[[2.7047450e-04 9.9662364e-01 9.9920952e-01 ... 2.6063382e-04\n",
      "  2.9149622e-04 4.0029504e-04]\n",
      " [2.8024304e-05 9.9938846e-01 9.9990118e-01 ... 2.7185459e-05\n",
      "  3.0548956e-05 5.1634383e-05]\n",
      " [1.4249042e-04 9.9921095e-01 9.9977535e-01 ... 1.4135124e-04\n",
      "  1.5833881e-04 2.3657977e-04]\n",
      " ...\n",
      " [1.3921043e-07 8.6467808e-01 9.9592072e-01 ... 1.0304436e-07\n",
      "  1.0250469e-07 2.3614859e-07]\n",
      " [1.6829209e-07 8.8543272e-01 9.9640918e-01 ... 1.2665393e-07\n",
      "  1.2714467e-07 2.8852165e-07]\n",
      " [1.9767644e-07 8.9508742e-01 9.9646693e-01 ... 1.4942607e-07\n",
      "  1.5084872e-07 3.3656659e-07]]\n"
     ]
    }
   ],
   "source": [
    "y_pred = best_model.predict(X_test)\n",
    "print(y_pred)\n",
    "# create labels out of predictions\n",
    "y_pred_labels = np.argmax(y_pred, axis=1)"
   ],
   "metadata": {
    "collapsed": false
   }
  },
  {
   "cell_type": "markdown",
   "source": [
    "Making the Confusion Matrix"
   ],
   "metadata": {
    "collapsed": false
   }
  },
  {
   "cell_type": "code",
   "execution_count": 257,
   "outputs": [
    {
     "name": "stdout",
     "output_type": "stream",
     "text": [
      "Our accuracy is 52.3983374919596%\n"
     ]
    }
   ],
   "source": [
    "cm = confusion_matrix(y_test, y_pred_labels)\n",
    "\n",
    "print(\"Our accuracy is {}%\".format(((cm[0][0] + cm[1][1]) / cm.sum()) * 100))"
   ],
   "metadata": {
    "collapsed": false
   }
  },
  {
   "cell_type": "markdown",
   "source": [
    "Plot heatmap"
   ],
   "metadata": {
    "collapsed": false
   }
  },
  {
   "cell_type": "code",
   "execution_count": 258,
   "outputs": [
    {
     "name": "stdout",
     "output_type": "stream",
     "text": [
      "              precision    recall  f1-score   support\n",
      "\n",
      "           1       0.65      0.61      0.63    209680\n",
      "           2       0.72      0.60      0.66    281141\n",
      "           3       0.72      0.67      0.69     33594\n",
      "           4       0.18      0.93      0.30       587\n",
      "           5       0.11      0.86      0.20      7333\n",
      "           6       0.35      0.73      0.47     15207\n",
      "           7       0.29      0.25      0.27     18350\n",
      "\n",
      "    accuracy                           0.60    565892\n",
      "   macro avg       0.43      0.66      0.46    565892\n",
      "weighted avg       0.66      0.60      0.62    565892\n",
      "\n"
     ]
    },
    {
     "data": {
      "text/plain": "<Figure size 640x480 with 2 Axes>",
      "image/png": "[encoded data removed]"
     },
     "metadata": {},
     "output_type": "display_data"
    }
   ],
   "source": [
    "sns.heatmap(cm, annot=True)\n",
    "plt.savefig('confmat.png')\n",
    "\n",
    "print(classification_report(y_test, y_pred_labels))"
   ],
   "metadata": {
    "collapsed": false
   }
  }
 ],
 "metadata": {
  "kernelspec": {
   "display_name": "Python 3",
   "language": "python",
   "name": "python3"
  },
  "language_info": {
   "codemirror_mode": {
    "name": "ipython",
    "version": 2
   },
   "file_extension": ".py",
   "mimetype": "text/x-python",
   "name": "python",
   "nbconvert_exporter": "python",
   "pygments_lexer": "ipython2",
   "version": "2.7.6"
  }
 },
 "nbformat": 4,
 "nbformat_minor": 0
}
