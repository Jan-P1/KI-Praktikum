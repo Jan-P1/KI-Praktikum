{
 "cells": [
  {
   "cell_type": "code",
   "execution_count": 35,
   "metadata": {
    "collapsed": true
   },
   "outputs": [],
   "source": [
    "import optuna\n",
    "import pickle\n",
    "import numpy as np\n",
    "import pandas as pd\n",
    "\n",
    "# for visualization\n",
    "import matplotlib.pyplot as plt\n",
    "import seaborn as sns\n",
    "\n",
    "# for neural networks\n",
    "import tensorflow as tf\n",
    "from tensorflow import keras\n",
    "from tensorflow.keras.backend import clear_session\n",
    "from tensorflow.keras.layers import Dense, Input\n",
    "from tensorflow.keras.layers import Dropout\n",
    "from tensorflow.keras.models import Sequential\n",
    "from tensorflow.keras.optimizers import Adam\n",
    "\n",
    "# train_test_split was moved from cross_validation to model_selection in 0.18\n",
    "from sklearn.model_selection import train_test_split\n",
    "\n",
    "# import MinMixScaler for normalization of training data\n",
    "from sklearn.preprocessing import MinMaxScaler\n",
    "\n",
    "from sklearn.metrics import confusion_matrix, classification_report"
   ]
  },
  {
   "cell_type": "markdown",
   "source": [
    "## Define parameters batchsize and epochs"
   ],
   "metadata": {
    "collapsed": false
   }
  },
  {
   "cell_type": "code",
   "execution_count": 36,
   "outputs": [],
   "source": [
    "BATCHSIZE = 1000\n",
    "# number of epochs\n",
    "EPOCHS = 30\n",
    "\n",
    "# needed to save best model so far\n",
    "global best_accuracy_so_far"
   ],
   "metadata": {
    "collapsed": false
   }
  },
  {
   "cell_type": "markdown",
   "source": [
    "## The objective function for optuna to optimize the hyperparameters as well as the preperation of the training data"
   ],
   "metadata": {
    "collapsed": false
   }
  },
  {
   "cell_type": "code",
   "execution_count": 37,
   "outputs": [],
   "source": [
    "def objective(trial):\n",
    "    global best_accuracy_so_far\n",
    "\n",
    "    # Clear clutter from previous Keras session graphs.\n",
    "    clear_session()\n",
    "\n",
    "    # Import DataFrame\n",
    "    trees = pd.read_csv('../train.csv', header=0, index_col=\"Id\")\n",
    "\n",
    "    # Convert Wilderness_Types to single column\n",
    "    #columns = ['Wilderness_Area1', 'Wilderness_Area2', 'Wilderness_Area3', 'Wilderness_Area4']\n",
    "\n",
    "\n",
    "\n",
    "    # Convert Soil_Types to single column\n",
    "    # Drop Soil_Types that never occur (always 0) here and later in actual drop\n",
    "    columns = [\n",
    "        'Soil_Type1', 'Soil_Type2', 'Soil_Type3', 'Soil_Type4',\n",
    "        'Soil_Type5', 'Soil_Type6', 'Soil_Type7', 'Soil_Type8',\n",
    "        'Soil_Type9', 'Soil_Type10', 'Soil_Type11', 'Soil_Type12',\n",
    "        'Soil_Type13', 'Soil_Type14', 'Soil_Type15', 'Soil_Type16',\n",
    "        'Soil_Type17', 'Soil_Type18', 'Soil_Type19', 'Soil_Type20',\n",
    "        'Soil_Type21', 'Soil_Type22', 'Soil_Type23', 'Soil_Type24',\n",
    "        'Soil_Type25', 'Soil_Type26', 'Soil_Type27', 'Soil_Type28',\n",
    "        'Soil_Type29', 'Soil_Type30', 'Soil_Type31', 'Soil_Type32',\n",
    "        'Soil_Type33', 'Soil_Type34', 'Soil_Type35', 'Soil_Type36',\n",
    "        'Soil_Type37', 'Soil_Type38', 'Soil_Type39', 'Soil_Type40']\n",
    "    soil_types = []\n",
    "    for row in trees.iterrows():\n",
    "        dummy = 'N/A'\n",
    "\n",
    "        for index2, col in columns:\n",
    "            if row[col] == 1:\n",
    "                dummy = index2\n",
    "                break\n",
    "        soil_types.append(dummy)\n",
    "    trees['Soil_Types'] = soil_types\n",
    "\n",
    "    trees.drop(columns=['Wilderness_Area1', 'Wilderness_Area2', 'Wilderness_Area3', 'Wilderness_Area4'], inplace=True)\n",
    "\n",
    "    trees.drop(columns=[\n",
    "        'Soil_Type1', 'Soil_Type2', 'Soil_Type3', 'Soil_Type4',\n",
    "        'Soil_Type5', 'Soil_Type6', 'Soil_Type7', 'Soil_Type8',\n",
    "        'Soil_Type9', 'Soil_Type10', 'Soil_Type11', 'Soil_Type12',\n",
    "        'Soil_Type13', 'Soil_Type14', 'Soil_Type15', 'Soil_Type16',\n",
    "        'Soil_Type17', 'Soil_Type18', 'Soil_Type19', 'Soil_Type20',\n",
    "        'Soil_Type21', 'Soil_Type22', 'Soil_Type23', 'Soil_Type24',\n",
    "        'Soil_Type25', 'Soil_Type26', 'Soil_Type27', 'Soil_Type28',\n",
    "        'Soil_Type29', 'Soil_Type30', 'Soil_Type31', 'Soil_Type32',\n",
    "        'Soil_Type33', 'Soil_Type34', 'Soil_Type35', 'Soil_Type36',\n",
    "        'Soil_Type37', 'Soil_Type38', 'Soil_Type39', 'Soil_Type40'], inplace=True)\n",
    "\n",
    "\n",
    "\n",
    "    # get features X and labels y\n",
    "    X = trees.values[:,:-1]\n",
    "    y = trees[\"Cover_Type\"]\n",
    "    # split dataset into training and validation datasets\n",
    "    X_train, X_val, y_train, y_val = train_test_split(X, y)\n",
    "\n",
    "    scaler = MinMaxScaler()\n",
    "    # Fit only to the training data\n",
    "    scaler.fit(X_train)\n",
    "    # save fitted scaler, because you need it later for the test dataset\n",
    "    pickle.dump(scaler, open(\"scaler.p\", \"wb\"))\n",
    "\n",
    "    # Now apply the transformations to the data:\n",
    "    X_train = scaler.transform(X_train)\n",
    "    X_val = scaler.transform(X_val)\n",
    "\n",
    "    # create neural network\n",
    "    model = Sequential()\n",
    "\n",
    "    model.add(Input(shape=11))\n",
    "    model.add(Dense(128, kernel_initializer='random_uniform', activation='relu'))\n",
    "    model.add(Dropout(0.2))\n",
    "\n",
    "    model.add(Dense(256, kernel_initializer='he_uniform', activation='selu'))\n",
    "    model.add(Dense(units=trial.suggest_int(\"units\", 64, 128, step=16), kernel_initializer='he_uniform',\n",
    "                    activation=trial.suggest_categorical(\"activation1\", [\"selu\", \"relu\", \"linear\"])))\n",
    "    model.add(Dropout(0.3))\n",
    "    model.add(Dense(units=trial.suggest_int(\"units\", 64, 128, step=16), kernel_initializer='uniform',\n",
    "                   activation=trial.suggest_categorical(\"activation2\", [\"relu\", \"linear\"])))\n",
    "    model.add(Dropout(0.2))\n",
    "    model.add(tf.keras.layers.LayerNormalization(axis=1 , center=True , scale=True))\n",
    "    model.add(tf.keras.layers.Flatten())\n",
    "    # Adding dropout to prevent overfitting\n",
    "    model.add(Dropout(rate=trial.suggest_float(\"rate\", 0.2, 0.5, step=0.1)))\n",
    "    model.add(Dense(8, kernel_initializer='uniform', activation='sigmoid'))\n",
    "    # Sigmoid outputs the probability predicted for each label individually\n",
    "\n",
    "\n",
    "    # We compile our model with a sampled learning rate.\n",
    "    learning_rate = trial.suggest_float(\"learning_rate\", 1e-5, 1e-1, log=True)\n",
    "    model.compile(\n",
    "        loss=\"sparse_categorical_crossentropy\",\n",
    "        optimizer=Adam(learning_rate=learning_rate),\n",
    "        metrics=[\"accuracy\"],\n",
    "    )\n",
    "\n",
    "    my_callbacks = tf.keras.callbacks.EarlyStopping(patience=2)\n",
    "\n",
    "    # train neural network\n",
    "    my_model = model.fit(\n",
    "        X_train,\n",
    "        y_train,\n",
    "        validation_data=(X_val, y_val),\n",
    "        shuffle=True,\n",
    "        batch_size=BATCHSIZE,\n",
    "        epochs=EPOCHS,\n",
    "        verbose=False,\n",
    "        callbacks=my_callbacks\n",
    "    )\n",
    "\n",
    "\n",
    "    # Evaluate the model accuracy on the validation set.\n",
    "    score = model.evaluate(X_val, y_val, verbose=0)\n",
    "\n",
    "    # save best model so far to be able to use the best model later to predict with test data\n",
    "    if score[1] >= best_accuracy_so_far:\n",
    "        tf.keras.models.save_model(model, '{0}.mdl'.format(trial.number))\n",
    "        best_accuracy_so_far = score[1]\n",
    "\n",
    "    # return accuracy\n",
    "    return score[1]"
   ],
   "metadata": {
    "collapsed": false
   }
  },
  {
   "cell_type": "code",
   "execution_count": 38,
   "outputs": [
    {
     "name": "stderr",
     "output_type": "stream",
     "text": [
      "\u001B[32m[I 2022-12-06 22:07:36,936]\u001B[0m A new study created in memory with name: no-name-8a39e47d-c404-4729-8dd2-7c19e6fa9a3d\u001B[0m\n",
      "WARNING:absl:Found untraced functions such as _update_step_xla while saving (showing 1 of 1). These functions will not be directly callable after loading.\n"
     ]
    },
    {
     "name": "stdout",
     "output_type": "stream",
     "text": [
      "INFO:tensorflow:Assets written to: 0.mdl\\assets\n"
     ]
    },
    {
     "name": "stderr",
     "output_type": "stream",
     "text": [
      "INFO:tensorflow:Assets written to: 0.mdl\\assets\n",
      "\u001B[32m[I 2022-12-06 22:08:00,832]\u001B[0m Trial 0 finished with value: 0.9992063641548157 and parameters: {'units': 64, 'activation1': 'relu', 'activation2': 'linear', 'rate': 0.2, 'learning_rate': 0.00011257773997753555}. Best is trial 0 with value: 0.9992063641548157.\u001B[0m\n",
      "WARNING:absl:Found untraced functions such as _update_step_xla while saving (showing 1 of 1). These functions will not be directly callable after loading.\n"
     ]
    },
    {
     "name": "stdout",
     "output_type": "stream",
     "text": [
      "INFO:tensorflow:Assets written to: 1.mdl\\assets\n"
     ]
    },
    {
     "name": "stderr",
     "output_type": "stream",
     "text": [
      "INFO:tensorflow:Assets written to: 1.mdl\\assets\n",
      "\u001B[32m[I 2022-12-06 22:08:11,538]\u001B[0m Trial 1 finished with value: 0.9994708895683289 and parameters: {'units': 80, 'activation1': 'relu', 'activation2': 'relu', 'rate': 0.5, 'learning_rate': 0.002835475868754672}. Best is trial 1 with value: 0.9994708895683289.\u001B[0m\n",
      "WARNING:absl:Found untraced functions such as _update_step_xla while saving (showing 1 of 1). These functions will not be directly callable after loading.\n"
     ]
    },
    {
     "name": "stdout",
     "output_type": "stream",
     "text": [
      "INFO:tensorflow:Assets written to: 2.mdl\\assets\n"
     ]
    },
    {
     "name": "stderr",
     "output_type": "stream",
     "text": [
      "INFO:tensorflow:Assets written to: 2.mdl\\assets\n",
      "\u001B[32m[I 2022-12-06 22:08:22,555]\u001B[0m Trial 2 finished with value: 1.0 and parameters: {'units': 64, 'activation1': 'selu', 'activation2': 'relu', 'rate': 0.4, 'learning_rate': 0.005970468669202023}. Best is trial 2 with value: 1.0.\u001B[0m\n",
      "\u001B[32m[I 2022-12-06 22:08:58,031]\u001B[0m Trial 3 finished with value: 0.9992063641548157 and parameters: {'units': 128, 'activation1': 'relu', 'activation2': 'linear', 'rate': 0.5, 'learning_rate': 2.3680446624938446e-05}. Best is trial 2 with value: 1.0.\u001B[0m\n",
      "\u001B[32m[I 2022-12-06 22:09:19,219]\u001B[0m Trial 4 finished with value: 0.9997354745864868 and parameters: {'units': 64, 'activation1': 'linear', 'activation2': 'relu', 'rate': 0.30000000000000004, 'learning_rate': 0.00012599234828491768}. Best is trial 2 with value: 1.0.\u001B[0m\n"
     ]
    }
   ],
   "source": [
    "best_accuracy_so_far = -100\n",
    "study = optuna.create_study(direction=\"maximize\")\n",
    "# be cautious with the number of trials: Do not use a number larger than 50\n",
    "# this call starts the hyperparameter optimization process: the above define function \"objective\" is called with\n",
    "# n_trials different hyperparameter combinations\n",
    "study.optimize(objective, n_trials=5, timeout=2000)"
   ],
   "metadata": {
    "collapsed": false
   }
  },
  {
   "cell_type": "markdown",
   "source": [
    "Analyse the best model and use it to predict accuracy on test data"
   ],
   "metadata": {
    "collapsed": false
   }
  },
  {
   "cell_type": "code",
   "execution_count": 39,
   "outputs": [
    {
     "name": "stdout",
     "output_type": "stream",
     "text": [
      "Best trial:\n",
      "FrozenTrial(number=2, values=[1.0], datetime_start=datetime.datetime(2022, 12, 6, 22, 8, 11, 539850), datetime_complete=datetime.datetime(2022, 12, 6, 22, 8, 22, 555963), params={'units': 64, 'activation1': 'selu', 'activation2': 'relu', 'rate': 0.4, 'learning_rate': 0.005970468669202023}, distributions={'units': IntDistribution(high=128, log=False, low=64, step=16), 'activation1': CategoricalDistribution(choices=('selu', 'relu', 'linear')), 'activation2': CategoricalDistribution(choices=('relu', 'linear')), 'rate': FloatDistribution(high=0.5, log=False, low=0.2, step=0.1), 'learning_rate': FloatDistribution(high=0.1, log=True, low=1e-05, step=None)}, user_attrs={}, system_attrs={}, intermediate_values={}, trial_id=2, state=TrialState.COMPLETE, value=None)\n",
      "  Value: 1.0\n",
      "  Params: \n",
      "    units: 64\n",
      "    activation1: selu\n",
      "    activation2: relu\n",
      "    rate: 0.4\n",
      "    learning_rate: 0.005970468669202023\n"
     ]
    }
   ],
   "source": [
    "print(\"Best trial:\")\n",
    "trial = study.best_trial\n",
    "print(trial)\n",
    "\n",
    "print(\"  Value: {}\".format(trial.value))\n",
    "\n",
    "print(\"  Params: \")\n",
    "for key, value in trial.params.items():\n",
    "    print(\"    {}: {}\".format(key, value))"
   ],
   "metadata": {
    "collapsed": false
   }
  },
  {
   "cell_type": "markdown",
   "source": [
    "Load the best model. This model was saved in the function \"objective\"."
   ],
   "metadata": {
    "collapsed": false
   }
  },
  {
   "cell_type": "code",
   "execution_count": 40,
   "outputs": [],
   "source": [
    "best_model = tf.keras.models.load_model('{0}.mdl'.format(trial.number))"
   ],
   "metadata": {
    "collapsed": false
   }
  },
  {
   "cell_type": "markdown",
   "source": [
    "### Return performance of final model on new data (test data)\n",
    "TODO: only load test data here, that you get a few days before the deadline."
   ],
   "metadata": {
    "collapsed": false
   }
  },
  {
   "cell_type": "code",
   "execution_count": 41,
   "outputs": [],
   "source": [
    "trees = pd.read_csv('../test_file.csv', header=0, index_col=\"Id\")\n",
    "\n",
    "\n",
    "\n",
    "# Do the same as with the training data at the beginning\n",
    "columns = [\n",
    "    'Soil_Type_0', 'Soil_Type_1', 'Soil_Type_2', 'Soil_Type_3',\n",
    "    'Soil_Type_4', 'Soil_Type_5', 'Soil_Type_6', 'Soil_Type_7',\n",
    "    'Soil_Type_8', 'Soil_Type_9', 'Soil_Type_10', 'Soil_Type_11',\n",
    "    'Soil_Type_12', 'Soil_Type_13', 'Soil_Type_14', 'Soil_Type_15',\n",
    "    'Soil_Type_16', 'Soil_Type_17', 'Soil_Type_18', 'Soil_Type_19',\n",
    "    'Soil_Type_20', 'Soil_Type_21', 'Soil_Type_22', 'Soil_Type_23',\n",
    "    'Soil_Type_24', 'Soil_Type_25', 'Soil_Type_26', 'Soil_Type_27',\n",
    "    'Soil_Type_28', 'Soil_Type_29', 'Soil_Type_30', 'Soil_Type_31',\n",
    "    'Soil_Type_32', 'Soil_Type_33', 'Soil_Type_34', 'Soil_Type_35',\n",
    "    'Soil_Type_36', 'Soil_Type_37', 'Soil_Type_38', 'Soil_Type_39']\n",
    "soil_types = []\n",
    "\n",
    "for index, row in trees.iterrows():\n",
    "    dummy = 'Soil_Type_NA'\n",
    "    for col in columns:\n",
    "        if row[col] == 1:\n",
    "            dummy = col\n",
    "            break\n",
    "    soil_types.append(dummy)\n",
    "trees['Soil_Types'] = soil_types\n",
    "\n",
    "\n",
    "trees.drop(columns=['Wilderness_Area_0', 'Wilderness_Area_1', 'Wilderness_Area_2', 'Wilderness_Area_3'], inplace=True)\n",
    "\n",
    "\n",
    "\n",
    "trees.drop(columns=[\n",
    "    'Soil_Type_0', 'Soil_Type_1', 'Soil_Type_2', 'Soil_Type_3',\n",
    "    'Soil_Type_4', 'Soil_Type_5', 'Soil_Type_6', 'Soil_Type_7',\n",
    "    'Soil_Type_8', 'Soil_Type_9', 'Soil_Type_10', 'Soil_Type_11',\n",
    "    'Soil_Type_12', 'Soil_Type_13', 'Soil_Type_15', 'Soil_Type_15',\n",
    "    'Soil_Type_16', 'Soil_Type_17', 'Soil_Type_18', 'Soil_Type_19',\n",
    "    'Soil_Type_20', 'Soil_Type_21', 'Soil_Type_22', 'Soil_Type_23',\n",
    "    'Soil_Type_24', 'Soil_Type_25', 'Soil_Type_26', 'Soil_Type_27',\n",
    "    'Soil_Type_28', 'Soil_Type_29', 'Soil_Type_30', 'Soil_Type_31',\n",
    "    'Soil_Type_32', 'Soil_Type_33', 'Soil_Type_34', 'Soil_Type_35',\n",
    "    'Soil_Type_36', 'Soil_Type_37', 'Soil_Type_38', 'Soil_Type_39'], inplace=True)\n",
    "\n",
    "X_test = trees.values[:,1:-1]\n",
    "y_test = trees[\"Cover_Type\"]\n",
    "\n",
    "scaler = pickle.load(open(\"scaler.p\", \"rb\"))\n",
    "# important: preprocessing of test dataset has to be the same as for the training dataset\n",
    "X_test = scaler.transform(X_test)"
   ],
   "metadata": {
    "collapsed": false
   }
  },
  {
   "cell_type": "markdown",
   "source": [
    "Predicting the Test set results"
   ],
   "metadata": {
    "collapsed": false
   }
  },
  {
   "cell_type": "code",
   "execution_count": 42,
   "outputs": [
    {
     "name": "stdout",
     "output_type": "stream",
     "text": [
      "17685/17685 [==============================] - 27s 1ms/step\n",
      "[[8.4431696e-01 1.0000000e+00 9.9842501e-01 ... 1.2596073e-03\n",
      "  2.7699221e-04 9.4951844e-01]\n",
      " [8.4528548e-01 1.0000000e+00 9.9840695e-01 ... 1.2614243e-03\n",
      "  2.7744920e-04 9.4871670e-01]\n",
      " [8.4732211e-01 1.0000000e+00 9.9835849e-01 ... 1.2753699e-03\n",
      "  2.7891350e-04 9.4874638e-01]\n",
      " ...\n",
      " [9.3917686e-01 1.0000000e+00 9.9416316e-01 ... 3.9106607e-04\n",
      "  8.1726124e-05 3.8076884e-01]\n",
      " [9.3737924e-01 1.0000000e+00 9.9462187e-01 ... 3.9020658e-04\n",
      "  8.1194725e-05 3.8895890e-01]\n",
      " [9.3630123e-01 1.0000000e+00 9.9484432e-01 ... 3.9363903e-04\n",
      "  8.1899489e-05 4.0183470e-01]]\n"
     ]
    }
   ],
   "source": [
    "y_pred = best_model.predict(X_test)\n",
    "print(y_pred)\n",
    "# create labels out of predictions\n",
    "y_pred_labels = np.argmax(y_pred, axis=1)"
   ],
   "metadata": {
    "collapsed": false
   }
  },
  {
   "cell_type": "markdown",
   "source": [
    "Making the Confusion Matrix"
   ],
   "metadata": {
    "collapsed": false
   }
  },
  {
   "cell_type": "code",
   "execution_count": 43,
   "outputs": [
    {
     "name": "stdout",
     "output_type": "stream",
     "text": [
      "Our accuracy is 37.05300658076099%\n"
     ]
    }
   ],
   "source": [
    "cm = confusion_matrix(y_test, y_pred_labels)\n",
    "\n",
    "print(\"Our accuracy is {}%\".format(((cm[0][0] + cm[1][1]) / cm.sum()) * 100))"
   ],
   "metadata": {
    "collapsed": false
   }
  },
  {
   "cell_type": "markdown",
   "source": [
    "Plot heatmap"
   ],
   "metadata": {
    "collapsed": false
   }
  },
  {
   "cell_type": "code",
   "execution_count": 44,
   "outputs": [
    {
     "name": "stderr",
     "output_type": "stream",
     "text": [
      "F:\\Anaconda\\envs\\kipraktikum2\\lib\\site-packages\\sklearn\\metrics\\_classification.py:1334: UndefinedMetricWarning: Precision and F-score are ill-defined and being set to 0.0 in labels with no predicted samples. Use `zero_division` parameter to control this behavior.\n",
      "  _warn_prf(average, modifier, msg_start, len(result))\n",
      "F:\\Anaconda\\envs\\kipraktikum2\\lib\\site-packages\\sklearn\\metrics\\_classification.py:1334: UndefinedMetricWarning: Precision and F-score are ill-defined and being set to 0.0 in labels with no predicted samples. Use `zero_division` parameter to control this behavior.\n",
      "  _warn_prf(average, modifier, msg_start, len(result))\n",
      "F:\\Anaconda\\envs\\kipraktikum2\\lib\\site-packages\\sklearn\\metrics\\_classification.py:1334: UndefinedMetricWarning: Precision and F-score are ill-defined and being set to 0.0 in labels with no predicted samples. Use `zero_division` parameter to control this behavior.\n",
      "  _warn_prf(average, modifier, msg_start, len(result))\n"
     ]
    },
    {
     "name": "stdout",
     "output_type": "stream",
     "text": [
      "              precision    recall  f1-score   support\n",
      "\n",
      "           1       0.37      1.00      0.54    209680\n",
      "           2       0.00      0.00      0.00    281141\n",
      "           3       0.00      0.00      0.00     33594\n",
      "           4       0.01      0.07      0.02       587\n",
      "           5       0.00      0.00      0.00      7333\n",
      "           6       0.65      0.05      0.09     15207\n",
      "           7       0.00      0.00      0.00     18350\n",
      "\n",
      "    accuracy                           0.37    565892\n",
      "   macro avg       0.15      0.16      0.09    565892\n",
      "weighted avg       0.16      0.37      0.20    565892\n",
      "\n"
     ]
    },
    {
     "data": {
      "text/plain": "<Figure size 640x480 with 2 Axes>",
      "image/png": "[encoded data removed]"
     },
     "metadata": {},
     "output_type": "display_data"
    }
   ],
   "source": [
    "sns.heatmap(cm, annot=True)\n",
    "plt.savefig('confmat.png')\n",
    "\n",
    "print(classification_report(y_test, y_pred_labels))"
   ],
   "metadata": {
    "collapsed": false
   }
  }
 ],
 "metadata": {
  "kernelspec": {
   "display_name": "Python 3",
   "language": "python",
   "name": "python3"
  },
  "language_info": {
   "codemirror_mode": {
    "name": "ipython",
    "version": 2
   },
   "file_extension": ".py",
   "mimetype": "text/x-python",
   "name": "python",
   "nbconvert_exporter": "python",
   "pygments_lexer": "ipython2",
   "version": "2.7.6"
  }
 },
 "nbformat": 4,
 "nbformat_minor": 0
}
